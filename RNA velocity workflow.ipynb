{
 "cells": [
  {
   "cell_type": "markdown",
   "metadata": {},
   "source": [
    "### RNA Velocity with Salmon-Alevin/scVelo"
   ]
  },
  {
   "cell_type": "markdown",
   "metadata": {},
   "source": [
    "#### As mentioned in the [Rmd overview](https://github.com/trichelab/single_cell_analyses/blob/master/rnavel_alevin_scvelo.Rmd) of this analysis pipeline, this workflow primarily follows this github [page](https://combine-lab.github.io/alevin-tutorial/2020/alevin-velocity/), it proceeds along 4 main steps:\n",
    "\n",
    "   1. Installation of pre-requisite software components <br>\n",
    "   2. Downloading and indexing the genome <br>\n",
    "   3. Aligning your sequencing reads to intronic and exonic regions of the genome <br>\n",
    "   4. Performing the RNA Velocity calculation <br>"
   ]
  },
  {
   "cell_type": "markdown",
   "metadata": {},
   "source": [
    "#### Step 1. Installation of pre-requisite software components"
   ]
  },
  {
   "cell_type": "markdown",
   "metadata": {},
   "source": [
    "- Install anaconda [here](https://docs.anaconda.com/anaconda/install/), or miniconda [here](https://docs.conda.io/en/latest/miniconda.html).\n",
    "- Install R ≥ v 4.0 [here](https://repo.miserver.it.umich.edu/cran/).\n",
    "- If you already have R < v 4.0, run `updateR()` within the R terminal to update to the latest version."
   ]
  },
  {
   "cell_type": "markdown",
   "metadata": {},
   "source": [
    "#### Step 2. Downloading and indexing the reference genome"
   ]
  },
  {
   "cell_type": "markdown",
   "metadata": {},
   "source": [
    "**A. Download reference genome and the corresponding gtf file. In this example, we are using Gencode Grch38 primary assembly** \n",
    "\n",
    "`wget ftp://ftp.ebi.ac.uk/pub/databases/gencode/Gencode_human/release_34/GRCh38.primary_assembly.genome.fa.gz` <br>\n",
    "`wget ftp://ftp.ebi.ac.uk/pub/databases/gencode/Gencode_human/release_34/gencode.v34.annotation.gtf.gz`"
   ]
  },
  {
   "cell_type": "markdown",
   "metadata": {},
   "source": [
    "Now, it's time to open R (can be done locally or through HPC) and import (or install if you have not done so) packages required. The R script for indexing the reference and creating a linked transcriptome with tximeta is **[here](https://github.com/trichelab/single_cell_analyses/blob/master/Rscripts/step2_index_ref_genome.R)**."
   ]
  },
  {
   "cell_type": "markdown",
   "metadata": {},
   "source": [
    "**B. Preparing transcriptome indices using Salmon**\n",
    "\n",
    "- **First of, install salmon using conda (if you have not done so)**\n",
    "\n",
    "`conda config --add channels conda-forge`<br>\n",
    "`conda config --add channels bioconda` <br> \n",
    "`conda create -n salmon salmon` <br> \n",
    "`conda activate salmon`\n",
    "\n",
    "- **Indexing with salmon**"
   ]
  },
  {
   "cell_type": "markdown",
   "metadata": {},
   "source": [
    "`grep \">\" GRCh38.primary_assembly.genome.fa | cut -d \">\" -f 2 | cut -d \" \" -f 1 > GRCh38.primary_assembly.genome.chrnames.txt`<br>\n",
    "`salmon index \\`<br>\n",
    "`-t <(cat gencode.v34.annotation.expanded.fa GRCh38.primary_assembly.genome.fa) \\`<br>\n",
    "`-i gencode.v34.annotation.expanded.sidx --gencode -p 32 \\`<br>\n",
    "`-d GRCh38.primary_assembly.genome.chrnames.txt`\n",
    "\n",
    "- **Now, it's time to create a linked transcriptome with tximeta (refer to the [Rscript](https://github.com/trichelab/single_cell_analyses/blob/master/Rscripts/step2_index_ref_genome.R)) **"
   ]
  },
  {
   "cell_type": "markdown",
   "metadata": {},
   "source": [
    "#### Step 3. Align and quantify reads to intronic and exonic regions of the genome"
   ]
  },
  {
   "cell_type": "markdown",
   "metadata": {},
   "source": [
    "**A. We will use MPAL (Mixed-Phenotype Acute Leukemia) scRNA-seq data set for this documentation from [Granja et al., 2019](https://www.nature.com/articles/s41587-019-0332-7.pdf?draft=collection). The following code downloads the bam file from SRA and uses the bamtofastq utility to convert it into a set of FASTQ files.**\n",
    "\n",
    "`wget https://sra-pub-src-2.s3.amazonaws.com/SRR10343065/scRNA_BMMC_D1T1.bam.1` <br>\n",
    "`mv scRNA_BMMC_D1T1.bam.1 scRNA_BMMC_D1T1.bam`<br>\n",
    "`bamtofastq --reads-per-fastq=500000000 scRNA_BMMC_D1T1.bam FASTQtmp`<br>\n",
    "\n",
    "**B. Run alevin to quantify the exonic and intronic abundances based on the index generated above.**\n",
    "`salmon alevin -l ISR -i gencode.v34.annotation.expanded.sidx \\`<br>\n",
    "`-1 BMMC_D1T1_S1_L001_R1_001.fastq.gz \\`<br>\n",
    "`-2 BMMC_D1T1_S1_L001_R2_001.fastq.gz \\`<br>\n",
    "`-o alevin_out -p 36 --tgMap gencode.v34.annotation.expanded.tx2gene.tsv \\`<br>\n",
    "`--chromium --dumpFeatures --expectCells 1850`\n",
    "\n",
    "**C. Import abundances into R with tximeta**\n",
    "\n",
    "refer to the [Rscript](https://github.com/trichelab/single_cell_analyses/blob/master/Rscripts/step4_import_abundances.R)"
   ]
  },
  {
   "cell_type": "markdown",
   "metadata": {},
   "source": [
    "#### Step 4. Perform RNA velocity calculation with scVelo"
   ]
  },
  {
   "cell_type": "code",
   "execution_count": 1,
   "metadata": {},
   "outputs": [],
   "source": [
    "import sys\n",
    "\n",
    "#install packages from terminal \n",
    "#e.g. \n",
    "#python -m pip install --user git+https://github.com/theislab/scvelo)\n",
    "#add path, which point to where the modules are installed with \n",
    "#sys.path.append(\"path/to/module\")\n",
    "\n",
    "#print python path environment variable\n",
    "print(sys.path) "
   ]
  },
  {
   "cell_type": "code",
   "execution_count": 2,
   "metadata": {},
   "outputs": [],
   "source": [
    "import scvelo as scv\n",
    "import pandas as pd\n",
    "import seaborn as sns\n",
    "import numpy as np\n",
    "import scanpy as sc\n",
    "import leidenalg\n",
    "import matplotlib\n",
    "matplotlib.use('AGG')\n",
    "import matplotlib.pyplot as pl\n",
    "from matplotlib import rcParams\n",
    "import louvain"
   ]
  },
  {
   "cell_type": "code",
   "execution_count": 3,
   "metadata": {},
   "outputs": [
    {
     "name": "stdout",
     "output_type": "stream",
     "text": [
      "scanpy==1.4.6 anndata==0.7.2.dev82+g2e37bb6 umap==0.4.1 numpy==1.18.1 scipy==1.3.1 pandas==1.0.3 scikit-learn==0.22.2.post1 statsmodels==0.11.1 python-igraph==0.8.0 louvain==0.7.0\n",
      "Running scvelo 0.1.26.dev189+gc441c72 (python 3.6.4) on 2020-05-19 02:49.\n"
     ]
    }
   ],
   "source": [
    "import rpy2\n",
    "import rpy2.robjects\n",
    "import anndata\n",
    "import anndata2ri\n",
    "from rpy2.robjects import r\n",
    "anndata2ri.activate()\n",
    "\n",
    "sc.settings.verbosity = 3\n",
    "sc.logging.print_versions()\n",
    "sc.settings.set_figure_params(dpi=80)\n",
    "scv.logging.print_version()\n",
    "scv.settings.set_figure_params('scvelo')"
   ]
  },
  {
   "cell_type": "code",
   "execution_count": 4,
   "metadata": {},
   "outputs": [],
   "source": [
    "#Loading the rpy2 extension enables cell magic to be used\n",
    "#This runs R code in jupyter notebook cells\n",
    "%load_ext rpy2.ipython"
   ]
  },
  {
   "cell_type": "code",
   "execution_count": 5,
   "metadata": {},
   "outputs": [],
   "source": [
    "%%R\n",
    "sce <- readRDS(file=\"C:\\\\Users\\\\Pamela Himadewi\\\\Documents\\\\TricheLab_gitrepo\\\\single_cell_analyses\\\\Rscripts\\\\BMMC_D1T1_txi_alevin_abundance.rds\")"
   ]
  },
  {
   "cell_type": "code",
   "execution_count": 6,
   "metadata": {},
   "outputs": [
    {
     "data": {
      "text/plain": [
       "AnnData object with n_obs × n_vars = 3137 × 60289\n",
       "    obs: 'sizeFactor'\n",
       "    uns: 'tximetaInfo', 'quantInfo', 'countsFromAbundance', 'level', 'txomeInfo', 'txdbInfo'\n",
       "    obsm: 'X_pca', 'X_tsne'\n",
       "    layers: 'spliced', 'unspliced', 'logcounts'"
      ]
     },
     "execution_count": 6,
     "metadata": {},
     "output_type": "execute_result"
    }
   ],
   "source": [
    "adata = r('as(sce, \"SingleCellExperiment\")')\n",
    "adata"
   ]
  },
  {
   "cell_type": "code",
   "execution_count": 7,
   "metadata": {},
   "outputs": [
    {
     "name": "stdout",
     "output_type": "stream",
     "text": [
      "Abundance of ['spliced', 'unspliced']: [0.68 0.32]\n"
     ]
    }
   ],
   "source": [
    "#show proportions of spliced/unspliced abundances\n",
    "scv.utils.show_proportions(adata)"
   ]
  },
  {
   "cell_type": "code",
   "execution_count": 8,
   "metadata": {},
   "outputs": [
    {
     "name": "stdout",
     "output_type": "stream",
     "text": [
      "Filtered out 49600 genes that are detected in less than 30 counts (shared).\n",
      "Normalized count data: X, spliced, unspliced.\n"
     ]
    }
   ],
   "source": [
    "#filter out genes that are lowly expressed\n",
    "scv.pp.filter_genes(adata, min_shared_counts = 30)\n",
    "scv.pp.normalize_per_cell(adata, enforce = True)"
   ]
  },
  {
   "cell_type": "code",
   "execution_count": 9,
   "metadata": {},
   "outputs": [
    {
     "name": "stdout",
     "output_type": "stream",
     "text": [
      "If you pass `n_top_genes`, all cutoffs are ignored.\n",
      "extracting highly variable genes\n",
      "    finished (0:00:01)\n",
      "computing neighbors\n",
      "    finished (0:00:05) --> added \n",
      "    'distances' and 'connectivities', weighted adjacency matrices (adata.obsp)\n",
      "computing moments based on connectivities\n",
      "    finished (0:00:01) --> added \n",
      "    'Ms' and 'Mu', moments of spliced/unspliced abundances (adata.layers)\n"
     ]
    }
   ],
   "source": [
    "scv.pp.filter_genes_dispersion(adata, n_top_genes = 2000)\n",
    "scv.pp.log1p(adata)\n",
    "\n",
    "scv.pp.moments(adata, n_pcs = 30, n_neighbors = 30)"
   ]
  },
  {
   "cell_type": "code",
   "execution_count": 10,
   "metadata": {},
   "outputs": [
    {
     "name": "stdout",
     "output_type": "stream",
     "text": [
      "recovering dynamics\n",
      "    finished (0:23:10) --> added \n",
      "    'fit_pars', fitted parameters for splicing dynamics (adata.var)\n"
     ]
    }
   ],
   "source": [
    "scv.tl.recover_dynamics(adata)"
   ]
  }
 ],
 "metadata": {
  "kernelspec": {
   "display_name": "Python 3",
   "language": "python",
   "name": "python3"
  },
  "language_info": {
   "codemirror_mode": {
    "name": "ipython",
    "version": 3
   },
   "file_extension": ".py",
   "mimetype": "text/x-python",
   "name": "python",
   "nbconvert_exporter": "python",
   "pygments_lexer": "ipython3",
   "version": "3.6.4"
  }
 },
 "nbformat": 4,
 "nbformat_minor": 2
}
