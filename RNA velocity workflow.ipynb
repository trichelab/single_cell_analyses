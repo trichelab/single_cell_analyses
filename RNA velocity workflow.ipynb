{
 "cells": [
  {
   "cell_type": "markdown",
   "metadata": {},
   "source": [
    "### RNA Velocity with Salmon-Alevin/scVelo"
   ]
  },
  {
   "cell_type": "markdown",
   "metadata": {},
   "source": [
    "#### As mentioned in the [Rmd overview](https://github.com/trichelab/single_cell_analyses/blob/master/rnavel_alevin_scvelo.Rmd) of this analysis pipeline, it proceeds along 4 main steps:\n",
    "\n",
    "   1. [Installation of pre-requisite software components](#step1) <br>\n",
    "   2. [Downloading and indexing the genome](#step2) <br>\n",
    "   3. [Aligning your sequencing reads to intronic and exonic regions of the genome](#step3) <br>\n",
    "   4. [Performing the RNA Velocity calculation](#step4) <br>"
   ]
  },
  {
   "cell_type": "markdown",
   "metadata": {},
   "source": [
    "#### <a id='step1'>Step 1. Installation of pre-requisite software components</a>"
   ]
  },
  {
   "cell_type": "markdown",
   "metadata": {},
   "source": [
    "#### <a id='step2'>Step 2. Downloading and indexing the reference genome</a>"
   ]
  },
  {
   "cell_type": "markdown",
   "metadata": {},
   "source": [
    "Download reference genome and the corresponding gtf file. In this example, we are using Gencode Grch38 primary assembly \n",
    "> \n",
    "wget ftp://ftp.ebi.ac.uk/pub/databases/gencode/Gencode_human/release_34/GRCh38.primary_assembly.genome.fa.gz <br>\n",
    "wget ftp://ftp.ebi.ac.uk/pub/databases/gencode/Gencode_human/release_34/gencode.v34.annotation.gtf.gz "
   ]
  },
  {
   "cell_type": "markdown",
   "metadata": {},
   "source": [
    "Now, it's time to open R studio and import (or install if you have not done so) packages required. The R script for indexing the reference is [here](https://github.com/trichelab/single_cell_analyses/Rscripts/step2_index_ref_genome.R)"
   ]
  },
  {
   "cell_type": "markdown",
   "metadata": {},
   "source": [
    "#### <a id='step3'>Step 3. Align and quantify reads to intronic and exonic regions of the genome</a>"
   ]
  },
  {
   "cell_type": "markdown",
   "metadata": {},
   "source": [
    "#### <a id='step4'>Step 4. Perform RNA velocity calculation with scVelo</a>"
   ]
  }
 ],
 "metadata": {
  "kernelspec": {
   "display_name": "Python 3",
   "language": "python",
   "name": "python3"
  },
  "language_info": {
   "codemirror_mode": {
    "name": "ipython",
    "version": 3
   },
   "file_extension": ".py",
   "mimetype": "text/x-python",
   "name": "python",
   "nbconvert_exporter": "python",
   "pygments_lexer": "ipython3",
   "version": "3.6.4"
  }
 },
 "nbformat": 4,
 "nbformat_minor": 2
}
