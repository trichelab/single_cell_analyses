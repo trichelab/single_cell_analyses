{
 "cells": [
  {
   "cell_type": "markdown",
   "metadata": {},
   "source": [
    "### RNA Velocity with Salmon-Alevin/scVelo"
   ]
  },
  {
   "cell_type": "markdown",
   "metadata": {},
   "source": [
    "#### As mentioned in the [Rmd overview](https://github.com/trichelab/single_cell_analyses/blob/master/rnavel_alevin_scvelo.Rmd) of this analysis pipeline, this workflow primarily follows this github [page](https://combine-lab.github.io/alevin-tutorial/2020/alevin-velocity/), it proceeds along 4 main steps:\n",
    "\n",
    "   1. Installation of pre-requisite software components <br>\n",
    "   2. Downloading and indexing the genome <br>\n",
    "   3. Aligning your sequencing reads to intronic and exonic regions of the genome <br>\n",
    "   4. Performing the RNA Velocity calculation <br>"
   ]
  },
  {
   "cell_type": "markdown",
   "metadata": {},
   "source": [
    "#### Step 1. Installation of pre-requisite software components"
   ]
  },
  {
   "cell_type": "markdown",
   "metadata": {},
   "source": [
    "- *install miniconda, [download miniconda here]{https://docs.conda.io/en/latest/miniconda.html), or anaconda, [download anaconda here](https://www.anaconda.com/products/individual)*"
    "- *R ≥ v4.0, [Download R here](https://repo.miserver.it.umich.edu/cran/)"
	"- If R is already installed you can update to the latest version via `updateR()`"
   ]
  },
  {
   "cell_type": "markdown",
   "metadata": {},
   "source": [
    "#### Step 2. Downloading and indexing the reference genome"
   ]
  },
  {
   "cell_type": "markdown",
   "metadata": {},
   "source": [
    "**A. Download reference genome and the corresponding gtf file. In this example, we are using Gencode Grch38 primary assembly** \n",
    "> \n",
    "wget ftp://ftp.ebi.ac.uk/pub/databases/gencode/Gencode_human/release_34/GRCh38.primary_assembly.genome.fa.gz <br>\n",
    "wget ftp://ftp.ebi.ac.uk/pub/databases/gencode/Gencode_human/release_34/gencode.v34.annotation.gtf.gz "
   ]
  },
  {
   "cell_type": "markdown",
   "metadata": {},
   "source": [
    "Now, it's time to open R (can be done locally or through HPC) and import (or install if you have not done so) packages required. The R script for indexing the reference and creating a linked transcriptome with tximeta is **[here](https://github.com/trichelab/single_cell_analyses/blob/master/Rscripts/step2_index_ref_genome.R)**."
   ]
  },
  {
   "cell_type": "markdown",
   "metadata": {},
   "source": [
    "**B. Preparing transcriptome indices using Salmon**\n",
    "\n",
    "- **First of, install salmon using conda (if you have not done so)**\n",
    "\n",
    "> \n",
    "conda config --add channels conda-forge <br>\n",
    "conda config --add channels bioconda <br>\n",
    "conda create -n salmon salmon <br>\n",
    "\n",
    "- **Indexing with salmon**\n",
    "> \n",
    "grep \">\" GRCh38.primary_assembly.genome.fa | cut -d \">\" -f 2 | cut -d \" \" -f 1 > GRCh38.primary_assembly.genome.chrnames.txt<br>\n",
    "salmon index \\<br>\n",
    "-t <(cat gencode.v34.annotation.expanded.fa GRCh38.primary_assembly.genome.fa) \\<br>\n",
    "-i gencode.v34.annotation.expanded.sidx --gencode -p 32 \\<br>\n",
    "-d GRCh38.primary_assembly.genome.chrnames.txt\n",
    "\n",
    "- **Now, it's time to create a linked transcriptome with tximeta (refer to the [Rscript](https://github.com/trichelab/single_cell_analyses/blob/master/Rscripts/step2_index_ref_genome.R)) **"
   ]
  },
  {
   "cell_type": "markdown",
   "metadata": {},
   "source": [
    "#### Step 3. Align and quantify reads to intronic and exonic regions of the genome"
   ]
  },
  {
   "cell_type": "markdown",
   "metadata": {},
   "source": [
    "**A. We will use MPAL (Mixed-Phenotype Acute Leukemia) scRNA-seq data set for this documentation from [Granja et al., 2019](https://www.nature.com/articles/s41587-019-0332-7.pdf?draft=collection). The following code downloads the bam file from SRA and uses the bamtofastq utility to convert it into a set of FASTQ files.**\n",
    "> \n",
    "wget https://sra-pub-src-2.s3.amazonaws.com/SRR10343065/scRNA_BMMC_D1T1.bam.1 <br>\n",
    "mv scRNA_BMMC_D1T1.bam.1 scRNA_BMMC_D1T1.bam<br>\n",
    "bamtofastq --reads-per-fastq=500000000 scRNA_BMMC_D1T1.bam FASTQtmp<br>\n",
    "\n",
    "**B. Run alevin to quantify the exonic and intronic abundances based on the index generated above.**\n",
    "> salmon alevin -l ISR -i gencode.v34.annotation.expanded.sidx \\<br>\n",
    "-1 AdultMouseRep3_S1_L001_R1_001.fastq.gz \\<br>\n",
    "-2 AdultMouseRep3_S1_L001_R2_001.fastq.gz \\<br>\n",
    "-o alevin_out -p 36 --tgMap gencode.v34.annotation.expanded.tx2gene.tsv \\<br>\n",
    "--chromium --dumpFeatures --expectCells 1850\n",
    "\n",
    "**C. Import abundances into R with tximeta**\n",
    "\n",
    "- Rscript is to be added here (working on it)"
   ]
  },
  {
   "cell_type": "markdown",
   "metadata": {},
   "source": [
    "#### Step 4. Perform RNA velocity calculation with scVelo"
   ]
  }
 ],
 "metadata": {
  "kernelspec": {
   "display_name": "Python 3",
   "language": "python",
   "name": "python3"
  },
  "language_info": {
   "codemirror_mode": {
    "name": "ipython",
    "version": 3
   },
   "file_extension": ".py",
   "mimetype": "text/x-python",
   "name": "python",
   "nbconvert_exporter": "python",
   "pygments_lexer": "ipython3",
   "version": "3.6.4"
  }
 },
 "nbformat": 4,
 "nbformat_minor": 2
}
